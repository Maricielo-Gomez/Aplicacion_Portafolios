{
  "nbformat": 4,
  "nbformat_minor": 0,
  "metadata": {
    "colab": {
      "provenance": [],
      "include_colab_link": true
    },
    "kernelspec": {
      "name": "python3",
      "display_name": "Python 3"
    },
    "language_info": {
      "name": "python"
    }
  },
  "cells": [
    {
      "cell_type": "markdown",
      "metadata": {
        "id": "view-in-github",
        "colab_type": "text"
      },
      "source": [
        "<a href=\"https://colab.research.google.com/github/Maricielo-Gomez/Aplicacion_Portafolios/blob/main/Propuesta_Concurso_An%C3%A1lisis_Portafolio.ipynb\" target=\"_parent\"><img src=\"https://colab.research.google.com/assets/colab-badge.svg\" alt=\"Open In Colab\"/></a>"
      ]
    },
    {
      "cell_type": "markdown",
      "source": [
        "#  **Investigación y propuesta de análisis de portafolio 📊**"
      ],
      "metadata": {
        "id": "Ir2ijpq2k3k5"
      }
    },
    {
      "cell_type": "markdown",
      "source": [
        "###**¿Qué es el análisis de portafolio?** 🔍\n",
        "\n",
        "##### El análisis de portafolio consiste en evaluar el conjunto de inversiones o activos (acciones, bonos, proyectos, productos, etc.) que posee una persona o una empresa, para determinar si ese conjunto está bien equilibrado entre riesgo y rentabilidad."
      ],
      "metadata": {
        "id": "-p-8wakolDiy"
      }
    },
    {
      "cell_type": "markdown",
      "source": [
        "###**¿Cómo se calcula la rentabilidad esperada?**\n",
        "\n",
        "- 💼 Paso 1: Identificar los activos o elementos del portafolio. Ejemplo: acciones de empresas, bonos, proyectos de inversión, productos de una compañía, etc.\n",
        "\n",
        "- 💼 Paso 2: Calcular la rentabilidad esperada (R) de cada activo."
      ],
      "metadata": {
        "id": "CLANBYQVouXM"
      }
    },
    {
      "cell_type": "code",
      "source": [
        "from IPython.display import display, Latex\n",
        "\n",
        "#Formula general\n",
        "formula_latex = r'E(R_i) = \\frac{V_{inicial} - V_{final}}{V_{inicial}}'\n",
        "\n",
        "display(Latex(formula_latex))"
      ],
      "metadata": {
        "colab": {
          "base_uri": "https://localhost:8080/",
          "height": 41
        },
        "id": "BqmyCKS-lA7B",
        "outputId": "a7946bcb-a0ec-4800-c2c3-127927535bbd"
      },
      "execution_count": 2,
      "outputs": [
        {
          "output_type": "display_data",
          "data": {
            "text/plain": [
              "<IPython.core.display.Latex object>"
            ],
            "text/latex": "E(R_i) = \\frac{V_{inicial} - V_{final}}{V_{inicial}}"
          },
          "metadata": {}
        }
      ]
    },
    {
      "cell_type": "markdown",
      "source": [
        "Convención: E(Ri)= Rentabilidad esperada"
      ],
      "metadata": {
        "id": "d9BjoE4YlRUj"
      }
    },
    {
      "cell_type": "markdown",
      "source": [
        "###**Definición de propuestas 💡 :**"
      ],
      "metadata": {
        "id": "RuS-7waemr8Z"
      }
    },
    {
      "cell_type": "markdown",
      "source": [
        "##**- 🪙 Modelo N° 1. CAPM (Capital Asset Pricing Model - Modelo de valoración de activos de capital)**\n"
      ],
      "metadata": {
        "id": "UHjwKrnfm3Pq"
      }
    },
    {
      "cell_type": "markdown",
      "source": [
        "####**- 🪙 ¿Qué es el CAPM?**\n",
        "\n",
        "El CAPM (Capital Asset Pricing Model) es un modelo que relaciona el riesgo sistemático de un activo (su β) con el rendimiento esperado que debería ofrecer.\n",
        "\n",
        "Cuanto mayor el riesgo frente al mercado, mayor el retorno esperado.\n",
        "\n",
        "\n",
        "####**- 🪙 Entendimiendo de método:**\n",
        "\n",
        "El mercado recompensa solo el riesgo que no se puede eliminar con diversificación (riesgo sistemático).\n",
        "\n",
        "Si tu activo es dos veces más sensible que el mercado (β = 2), esperas un retorno mayor que el del mercado; si β < 1, esperas menos retorno que el mercado.\n",
        "\n",
        "El CAPM entrega una tasa de retorno exigida: lo que deberías pedir por invertir en ese activo dado su β."
      ],
      "metadata": {
        "id": "-BzTgVMMl8dS"
      }
    },
    {
      "cell_type": "markdown",
      "source": [
        "####**- 🪙 Fórmula básica:**"
      ],
      "metadata": {
        "id": "kejFdlsMmNmp"
      }
    },
    {
      "cell_type": "code",
      "source": [
        "formula_capm = r'E(R_i) = R_f + \\beta_i (E(R_m) - R_f)'\n",
        "\n",
        "display(Latex(formula_capm))"
      ],
      "metadata": {
        "colab": {
          "base_uri": "https://localhost:8080/",
          "height": 38
        },
        "id": "T4KNu1z5mDN6",
        "outputId": "4bac4610-cc4c-49d2-89fc-ac15ac5beb26"
      },
      "execution_count": 4,
      "outputs": [
        {
          "output_type": "display_data",
          "data": {
            "text/plain": [
              "<IPython.core.display.Latex object>"
            ],
            "text/latex": "E(R_i) = R_f + \\beta_i (E(R_m) - R_f)"
          },
          "metadata": {}
        }
      ]
    },
    {
      "cell_type": "markdown",
      "source": [
        "\n",
        "Donde:\n",
        "\n",
        "𝐸(𝑅𝑖)= rendimiento esperado del activo 𝑖 (mismo periodo que los datos usados).\n",
        "\n",
        "𝑅𝑓 = tasa libre de riesgo (mismo periodo).\n",
        "\n",
        "𝐸(𝑅𝑚) = rendimiento esperado del mercado (por ejemplo, índice de mercado).\n",
        "\n",
        "𝛽𝑖 = sensibilidad del activo al mercado."
      ],
      "metadata": {
        "id": "LYlzNyuKmWmY"
      }
    },
    {
      "cell_type": "markdown",
      "source": [
        "\n",
        "Beta se calcula como:\n",
        "\n",
        "![Gráfica_Finanzas_20.jpg](data:image/jpeg;base64,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)\n",
        "\n"
      ],
      "metadata": {
        "id": "1X0uMD4fnR4U"
      }
    },
    {
      "cell_type": "markdown",
      "source": [
        "####**- 🪙 El Componente Clave: Beta (β):**\n",
        "\n",
        "\n",
        "*   β>1(Agresivo): El activo es más volátil y riesgoso que el mercado. Tiende a subir y bajar más que el índice.\n",
        "*   β=1(Neutral): El activo se mueve exactamente en línea con el mercado.\n",
        "*   β<1(Defensivo): El activo es menos volátil y riesgoso que el mercado. Tiende a ser más estable.\n",
        "\n",
        "\n"
      ],
      "metadata": {
        "id": "YMQUbwjlnoPJ"
      }
    },
    {
      "cell_type": "markdown",
      "source": [
        "##**Modelo N° 2. Análisis de Riesgo-Retorno: Modelo de Markowitz 🎯**\n"
      ],
      "metadata": {
        "id": "3EXOaS1pwEjH"
      }
    },
    {
      "cell_type": "markdown",
      "source": [
        "####**🎯¿Qué es el modelo de Markowitz?**\n",
        "\n",
        "El modelo de Markowitz, también conocido como Teoría Moderna de Portafolio (MPT), fue desarrollado por Harry Markowitz (1952) y busca optimizar la combinación de activos financieros dentro de un portafolio.\n",
        "El objetivo principal es maximizar la rentabilidad esperada para un nivel dado de riesgo, o minimizar el riesgo para una rentabilidad deseada.\n",
        "\n",
        "En otras palabras, no se trata solo de elegir los activos más rentables, sino de combinar activos de forma inteligente para lograr un equilibrio entre riesgo y retorno.\n",
        "\n",
        "####**🎯 Entendimiento de la metodología**\n",
        "\n",
        "Markowitz propuso que el riesgo de un portafolio no depende únicamente del riesgo individual de cada activo, sino también de cómo se relacionan entre sí (covarianza o correlación).\n",
        "\n",
        "Por ejemplo:\n",
        "\n",
        "- Si dos activos tienden a subir y bajar al mismo tiempo → tienen alta correlación → el riesgo total no se reduce mucho.\n",
        "\n",
        "- Si uno sube cuando el otro baja → tienen baja o negativa correlación → el riesgo total disminuye.\n",
        "\n",
        "El análisis de Markowitz se basa en dos medidas clave:\n",
        "\n",
        "- 📈 Rentabilidad esperada (E[R]) → promedio ponderado de las rentabilidades esperadas de cada activo.\n",
        "\n",
        "- ⚠️ Riesgo (σ) → representado por la desviación estándar del portafolio, que mide la variabilidad o incertidumbre de los retornos."
      ],
      "metadata": {
        "id": "3x8q0J5GyGZ7"
      }
    },
    {
      "cell_type": "markdown",
      "source": [
        "####**🔢 Fórmula básica rentabilidad esperada:**"
      ],
      "metadata": {
        "id": "_j4uoO2Byqdg"
      }
    },
    {
      "cell_type": "code",
      "source": [
        "%%latex\n",
        "E[R_p] = \\sum_{i=1}^{n} w_i E[R_i]"
      ],
      "metadata": {
        "colab": {
          "base_uri": "https://localhost:8080/",
          "height": 38
        },
        "id": "UQrWkjdsrb1w",
        "outputId": "b06d7e77-099b-4db9-ea81-962b23289618"
      },
      "execution_count": 8,
      "outputs": [
        {
          "output_type": "display_data",
          "data": {
            "text/plain": [
              "<IPython.core.display.Latex object>"
            ],
            "text/latex": "E[R_p] = \\sum_{i=1}^{n} w_i E[R_i]\n"
          },
          "metadata": {}
        }
      ]
    },
    {
      "cell_type": "markdown",
      "source": [],
      "metadata": {
        "id": "SfqsWJCTtsMx"
      }
    },
    {
      "cell_type": "markdown",
      "source": [
        "Donde:\n",
        "\n",
        "* $E[R_p]$:Rentabilidad Esperada del Portafolio.\n",
        "* $w_i$:Peso o proporción invertida en el activo $i$ (la fracción del capital total).\n",
        "* $E[R_i]$:Rentabilidad esperada del activo $i$\n",
        "\n"
      ],
      "metadata": {
        "id": "z0Oj4I2Hrwlv"
      }
    },
    {
      "cell_type": "markdown",
      "source": [
        "####**🔢 Fórmula básica Riesgo (Varianza) del portafolio:**"
      ],
      "metadata": {
        "id": "2AIfxrtczmrr"
      }
    },
    {
      "cell_type": "code",
      "source": [
        "%%latex\n",
        "\\sigma^2_p = \\sum_{i=1}^{n} \\sum_{j=1}^{n} w_i w_j \\text{Cov}(R_i, R_j)"
      ],
      "metadata": {
        "colab": {
          "base_uri": "https://localhost:8080/",
          "height": 39
        },
        "id": "fUGwTbcrsjP8",
        "outputId": "08149cee-657b-42f9-c0dd-af04a05452f6"
      },
      "execution_count": 15,
      "outputs": [
        {
          "output_type": "display_data",
          "data": {
            "text/plain": [
              "<IPython.core.display.Latex object>"
            ],
            "text/latex": "\\sigma^2_p = \\sum_{i=1}^{n} \\sum_{j=1}^{n} w_i w_j \\text{Cov}(R_i, R_j)\n"
          },
          "metadata": {}
        }
      ]
    },
    {
      "cell_type": "markdown",
      "source": [
        "Donde:\n",
        "\n",
        "* **$\\sigma^2_p$**: Varianza del portafolio (riesgo total).\n",
        "* **$w_i$, $w_j$**: Pesos o proporciones invertidas en los activos $i$ y $j$.\n",
        "* **$\\text{Cov}(R_i, R_j)$**: Covarianza entre los retornos de los activos $i$ y $j$."
      ],
      "metadata": {
        "id": "ZbI0kRGIsxW6"
      }
    },
    {
      "cell_type": "markdown",
      "source": [
        "**Desviación Estándar ($\\sigma_p$)**\n",
        "\n",
        "La desviación estándar es la raíz cuadrada de la varianza, y es la métrica de riesgo más usada.\n",
        "\n",
        "$$\\sigma_p = \\sqrt{\\sigma^2_p}$$"
      ],
      "metadata": {
        "id": "oiOc3IIEs7QS"
      }
    },
    {
      "cell_type": "markdown",
      "source": [
        "####**🔬 Escenarios Clave del Modelo de Markowitz:**"
      ],
      "metadata": {
        "id": "w0nQ1M9SuVHK"
      }
    },
    {
      "cell_type": "markdown",
      "source": [
        "#### **A. Inversor Arriesgado (Mayor Riesgo - Mayor Rentabilidad)** 📈\n",
        "\n",
        "* Este tipo de inversor busca **maximizar la rentabilidad**, aceptando altos niveles de riesgo.\n",
        "* Se asigna mayor peso a activos con alta rentabilidad esperada (como acciones volátiles o criptomonedas).\n",
        "\n",
        "Ejemplo de Ponderación: $w_1 = 0.70$, $w_2 = 0.30$\n",
        "\n",
        "Si $E[R_1] = 12\\%$ y $E[R_2] = 6\\%$:\n",
        "\n",
        "$$E[R_p] = 0.70(0.12) + 0.30(0.06) = 0.102 = 10.2\\%$$\n",
        "\n",
        "> *Resultado: Mayor retorno, pero con un **riesgo ($\\sigma_p$) elevado**.*"
      ],
      "metadata": {
        "id": "ZOb602kPudii"
      }
    },
    {
      "cell_type": "markdown",
      "source": [
        "#### **B. Inversor Equilibrado 🤝**\n",
        "\n",
        "* Busca un **punto medio** entre riesgo y retorno.\n",
        "* Combina activos seguros y activos más volátiles para mantener estabilidad sin sacrificar rentabilidad.\n",
        "\n",
        "Ejemplo: $w_1 = 0.50$, $w_2 = 0.50$\n",
        "\n",
        "Si $E[R_1] = 12\\%$ y $E[R_2] = 6\\%$:\n",
        "\n",
        "$$E[R_p] = 0.50(0.12) + 0.50(0.06) = 0.09 = 9\\%$$\n",
        "\n",
        "> *Resultado: Riesgo medio y rentabilidad aceptable.*"
      ],
      "metadata": {
        "id": "fUNm1P6yu4Ms"
      }
    },
    {
      "cell_type": "markdown",
      "source": [
        "#### **C. Inversor Conservador (Mínimo Riesgo) 🔒**\n",
        "\n",
        "* Busca **minimizar el riesgo**, aunque eso implique menor rentabilidad.\n",
        "* Prefiere activos estables (como bonos o fondos del mercado monetario).\n",
        "\n",
        "**Ejemplo de Ponderación:** $w_1 = 0.20$, $w_2 = 0.80$\n",
        "\n",
        "Si $E[R_1] = 12\\%$ y $E[R_2] = 6\\%$:\n",
        "\n",
        "$$E[R_p] = 0.20(0.12) + 0.80(0.06) = 0.072 = 7.2\\%$$\n",
        "\n",
        "> *Resultado: Menor retorno, pero el **riesgo total** del portafolio es más bajo.*"
      ],
      "metadata": {
        "id": "u0A6bUyavm8e"
      }
    },
    {
      "cell_type": "markdown",
      "source": [
        "###**Modelo N° 3. Eficiencia del Portafolio y Rendimiento Ajustado por Riesgo (Ratio de Sharpe)⚖️🚀**"
      ],
      "metadata": {
        "id": "8LFHjJj3wIfo"
      }
    },
    {
      "cell_type": "markdown",
      "source": [
        "### **1. Historia y Concepto ⚖️**\n",
        "\n",
        "El Ratio de Sharpe fue desarrollado por el economista ganador del Premio Nobel, **William F. Sharpe** en 1966. Su objetivo es cuantificar el exceso de rendimiento que una inversión genera por cada unidad de volatilidad (riesgo total) que asume.\n",
        "\n",
        "| Aspecto | Descripción |\n",
        "| :--- | :--- |\n",
        "| **Principio Central** | Mide la recompensa por asumir el riesgo, contrastando el retorno del portafolio con el de un activo libre de riesgo. |\n",
        "| **Conexión Markowitz** | Utiliza la **Desviación Estándar** ($\\sigma_p$) definida por Markowitz como su medida de riesgo. |"
      ],
      "metadata": {
        "id": "RS7zbUzTwNAI"
      }
    },
    {
      "cell_type": "markdown",
      "source": [
        "###**2. Fórmula Central**\n",
        "\n",
        "El Ratio de Sharpe se calcula dividiendo el exceso de rendimiento (la prima) entre la desviación estándar del portafolio:\n",
        "\n",
        "$$\\text{Sharpe Ratio} = \\frac{E(R_p) - R_f}{\\sigma_p}$$\n",
        "\n",
        "Donde:\n",
        "\n",
        "* **$E(R_p)$**: Rentabilidad Esperada del Portafolio.\n",
        "* **$R_f$**: Tasa Libre de Riesgo.\n",
        "* **$\\sigma_p$**: Desviación Estándar del Portafolio (Riesgo total)."
      ],
      "metadata": {
        "id": "DEudQJbjxUMx"
      }
    },
    {
      "cell_type": "markdown",
      "source": [
        "### **3. Interpretación Clave**\n",
        "\n",
        "La interpretación siempre es comparativa: **un Ratio de Sharpe más alto es mejor**, ya que indica mayor retorno por cada unidad de riesgo.\n",
        "\n",
        "#### Rangos de Interpretación:\n",
        "\n",
        "* Mayor a 1.0: Generalmente se considera un **buen desempeño** ajustado al riesgo.\n",
        "* Negativo: Indica que el rendimiento fue inferior a la tasa libre de riesgo. El riesgo asumido no fue recompensado."
      ],
      "metadata": {
        "id": "SoWpC4NRxks4"
      }
    },
    {
      "cell_type": "markdown",
      "source": [
        "## **Referencias bibliográficas:**\n",
        "\n"
      ],
      "metadata": {
        "id": "x0T8nI_Z0AQv"
      }
    }
  ]
}