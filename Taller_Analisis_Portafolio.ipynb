{
  "cells": [
    {
      "cell_type": "markdown",
      "metadata": {
        "id": "view-in-github",
        "colab_type": "text"
      },
      "source": [
        "<a href=\"https://colab.research.google.com/github/Maricielo-Gomez/Aplicacion_Portafolios/blob/main/Taller_Analisis_Portafolio.ipynb\" target=\"_parent\"><img src=\"https://colab.research.google.com/assets/colab-badge.svg\" alt=\"Open In Colab\"/></a>"
      ]
    },
    {
      "cell_type": "markdown",
      "metadata": {
        "id": "zCsrd91uxbIc"
      },
      "source": [
        "# 📊 Taller - Preparación Concurso: Análisis de Portafolio de Inversión\n",
        "\n",
        "Este Notebook servirá como guía para la primera actividad del concurso.\n",
        "\n",
        "**Objetivo:**\n",
        "- Investigar qué es un **análisis de portafolio de inversión**.\n",
        "- Plantear **tres propuestas distintas** de análisis (cada grupo puede ser creativo).\n",
        "- Seleccionar la propuesta que aplicarían si en el concurso reciben 1 o 2 acciones.\n",
        "- Definir con qué herramientas trabajarían (Python, Streamlit, GitHub, Colab).\n",
        "\n",
        "---"
      ],
      "id": "zCsrd91uxbIc"
    },
    {
      "cell_type": "markdown",
      "metadata": {
        "id": "jbBkIG15xbIf"
      },
      "source": [
        "## 1. Integrantes del Grupo 👥\n",
        "Escriban aquí los nombres completos de los integrantes del grupo y el nombre del grupo.\n",
        "\n",
        "```\n",
        "Nombre del grupo: _______________________\n",
        "\n",
        "Integrantes:\n",
        "1. _______________________\n",
        "2. _______________________\n",
        "3. _______________________\n",
        "```"
      ],
      "id": "jbBkIG15xbIf"
    },
    {
      "cell_type": "markdown",
      "metadata": {
        "id": "rZnxEW90xbIg"
      },
      "source": [
        "## 2. ¿Qué es un Análisis de Portafolio de Inversión? 📚\n",
        "Redacten en sus palabras qué significa analizar un portafolio de inversión.\n",
        "\n",
        "**Pistas:**\n",
        "- Evaluar **rendimiento esperado**.\n",
        "- Medir **riesgo** (volatilidad, varianza, desviación estándar).\n",
        "- Analizar cómo se combinan los activos (**correlación y diversificación**).\n",
        "- Relación **riesgo–retorno**.\n",
        "\n",
        "✍️ *Respuesta del grupo:*"
      ],
      "id": "rZnxEW90xbIg"
    },
    {
      "cell_type": "markdown",
      "metadata": {
        "id": "_SHf8BqaxbIg"
      },
      "source": [
        "## 3. Investigación: Tipos de Análisis de Portafolio 🔍\n",
        "Cada grupo debe investigar y escribir un breve resumen de **tres formas distintas** de análisis de portafolio de inversión.\n",
        "\n",
        "**Ejemplos de ideas (pueden usar estas o buscar otras):**\n",
        "- Análisis de rentabilidad y riesgo.\n",
        "- Comparación de portafolio de 1 activo vs. 2 activos.\n",
        "- Diversificación y correlación.\n",
        "- Simulación de escenarios (conservador, moderado, agresivo).\n",
        "- Optimización (frontera eficiente).\n",
        "\n",
        "Importante entender de las que se seleccione el porque\n",
        "\n",
        "✍️ *Respuestas del grupo:*\n",
        "\n",
        "**Propuesta 1:**  \n",
        "...\n",
        "\n",
        "**Propuesta 2:**  \n",
        "...\n",
        "\n",
        "**Propuesta 3:**  \n",
        "..."
      ],
      "id": "_SHf8BqaxbIg"
    },
    {
      "cell_type": "markdown",
      "metadata": {
        "id": "5Xs2miFkxbIh"
      },
      "source": [
        "## 4. Selección de la Propuesta ✅\n",
        "El grupo debe elegir una de las tres propuestas para aplicar en el concurso.\n",
        "\n",
        "**Justificación (máx. 5 líneas):**  \n",
        "..."
      ],
      "id": "5Xs2miFkxbIh"
    },
    {
      "cell_type": "markdown",
      "metadata": {
        "id": "1JBYaUV0xbIh"
      },
      "source": [
        "## 5. Herramientas de Trabajo 🛠️\n",
        "Indiquen con qué herramienta(s) planean trabajar:\n",
        "\n",
        "- [x] Python en Google Colab  \n",
        "- [x] Streamlit  \n",
        "- [x] GitHub (para versionar y compartir el proyecto)  \n",
        "- [ ] Otra: _____________  "
      ],
      "id": "1JBYaUV0xbIh"
    },
    {
      "cell_type": "markdown",
      "metadata": {
        "id": "mEWWTeUhxbIh"
      },
      "source": [
        "## 6. Referencias y Fuentes 📖\n",
        "Cada grupo debe escribir las fuentes que usó para investigar.\n",
        "\n",
        "Ejemplo: artículos, libros, videos, papers, páginas web confiables.\n",
        "\n",
        "✍️ *Fuentes utilizadas:*  \n",
        "..."
      ],
      "id": "mEWWTeUhxbIh"
    },
    {
      "cell_type": "markdown",
      "metadata": {
        "id": "vVRVzigfxbIh"
      },
      "source": [
        "---\n",
        "# 🔑 Prompt de investigación (para cada grupo)\n",
        "\n",
        "> **Prompt de investigación grupal:**  \n",
        ">\n",
        "Búsqueda de Fuentes en la Web\n",
        "\n",
        "Quiero que actúes como un asistente de investigación financiera.\n",
        "Tu tarea es buscar en la web fuentes confiables, artículos académicos, publicaciones en revistas financieras, papers y reportes especializados relacionados con:\n",
        "\n",
        "Análisis de portafolios de inversión, incluyendo:\n",
        "\n",
        "Teoría moderna de portafolios (Markowitz, frontera eficiente, diversificación).\n",
        "\n",
        "Indicadores de riesgo y rendimiento (Sharpe, Treynor, Jensen, Beta, VaR).\n",
        "\n",
        "Aplicaciones prácticas en acciones reales (ejemplo: AAPL, MSFT, NVDA, TSLA).\n",
        "\n",
        "Proyectos o estudios de caso aplicados a uno o dos tickers"
      ],
      "id": "vVRVzigfxbIh"
    },
    {
      "cell_type": "code",
      "source": [],
      "metadata": {
        "id": "N3DUYIUY37FC"
      },
      "id": "N3DUYIUY37FC",
      "execution_count": null,
      "outputs": []
    }
  ],
  "metadata": {
    "kernelspec": {
      "display_name": "Python 3",
      "language": "python",
      "name": "python3"
    },
    "language_info": {
      "name": "python",
      "version": "3.9"
    },
    "colab": {
      "provenance": [],
      "include_colab_link": true
    }
  },
  "nbformat": 4,
  "nbformat_minor": 5
}